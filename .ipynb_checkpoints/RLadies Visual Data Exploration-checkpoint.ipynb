{
 "cells": [
  {
   "cell_type": "code",
   "execution_count": 1,
   "metadata": {
    "collapsed": true
   },
   "outputs": [
    {
     "name": "stderr",
     "output_type": "stream",
     "text": [
      "Loading required package: ggplot2\n",
      "\n",
      "Attaching package: ‘plotly’\n",
      "\n",
      "The following object is masked from ‘package:ggplot2’:\n",
      "\n",
      "    last_plot\n",
      "\n",
      "The following object is masked from ‘package:stats’:\n",
      "\n",
      "    filter\n",
      "\n",
      "The following object is masked from ‘package:graphics’:\n",
      "\n",
      "    layout\n",
      "\n",
      "\n",
      "Attaching package: ‘dplyr’\n",
      "\n",
      "The following object is masked from ‘package:ckanr’:\n",
      "\n",
      "    changes\n",
      "\n",
      "The following objects are masked from ‘package:stats’:\n",
      "\n",
      "    filter, lag\n",
      "\n",
      "The following objects are masked from ‘package:base’:\n",
      "\n",
      "    intersect, setdiff, setequal, union\n",
      "\n"
     ]
    }
   ],
   "source": [
    "#Notebook dependencies (uncomment if you need to install packages)\n",
    "#install.packages('feather')\n",
    "#install.packages('ckanr')\n",
    "#install.packages('plotly')\n",
    "#install.packages('tictoc')\n",
    "#install.packages('fasttime')\n",
    "\n",
    "library(feather) #for fast data writes and reads\n",
    "library(ckanr) #for accessing data from ckan data portals\n",
    "library(plotly) #for beautiful visualisations\n",
    "library(tictoc) #for measuring how long your functions take to execute\n",
    "library(dplyr) #just because it's standard\n",
    "library(fasttime) #"
   ]
  },
  {
   "cell_type": "markdown",
   "metadata": {},
   "source": [
    "## Get Data"
   ]
  },
  {
   "cell_type": "markdown",
   "metadata": {},
   "source": [
    "### Read from file"
   ]
  },
  {
   "cell_type": "code",
   "execution_count": 6,
   "metadata": {},
   "outputs": [
    {
     "name": "stdout",
     "output_type": "stream",
     "text": [
      "Reading file from csv is so sloooow....: 87.311 sec elapsed\n"
     ]
    }
   ],
   "source": [
    "wd <- getwd()\n",
    "filepath <- paste(wd,'power_sample_data.csv',sep='/')\n",
    "tic('Reading file from csv is so sloooow....')\n",
    "data <- read.csv(filepath, stringsAsFactors = FALSE )\n",
    "toc()"
   ]
  },
  {
   "cell_type": "markdown",
   "metadata": {},
   "source": [
    "Feather reads and writes much faster. Let's save the file as a feather object so that we can save some time next time we want to load it."
   ]
  },
  {
   "cell_type": "markdown",
   "metadata": {},
   "source": [
    "#### Convert to feather format"
   ]
  },
  {
   "cell_type": "code",
   "execution_count": 7,
   "metadata": {},
   "outputs": [],
   "source": [
    "write_feather(data, 'power_sample_data.feather')"
   ]
  },
  {
   "cell_type": "code",
   "execution_count": 8,
   "metadata": {},
   "outputs": [
    {
     "name": "stdout",
     "output_type": "stream",
     "text": [
      "Reading file from feather is much faster!: 0.016 sec elapsed\n"
     ]
    }
   ],
   "source": [
    "tic('Reading file from feather is much faster!')\n",
    "data <- read_feather(paste(wd,'small_power_sample_data.feather',sep='/'))\n",
    "toc()"
   ]
  },
  {
   "cell_type": "markdown",
   "metadata": {},
   "source": [
    "Now let's take a look at what we got in our dataset."
   ]
  },
  {
   "cell_type": "code",
   "execution_count": 34,
   "metadata": {},
   "outputs": [
    {
     "name": "stdout",
     "output_type": "stream",
     "text": [
      "Classes ‘tbl_df’, ‘tbl’ and 'data.frame':\t5899533 obs. of  5 variables:\n",
      " $ RecorderID: chr  \"GNK001\" \"GNK001\" \"GNK001\" \"GNK001\" ...\n",
      " $ ProfileID : int  12001461 12001461 12001461 12001461 12001461 12001461 12001461 12001461 12001461 12001461 ...\n",
      " $ Datefield : chr  \"2010-09-01 00:00:00\" \"2010-09-01 00:30:00\" \"2010-09-01 01:00:00\" \"2010-09-01 01:30:00\" ...\n",
      " $ Unitsread : num  0.178 0.192 0.128 0.198 0.143 ...\n",
      " $ Valid     : num  1 1 1 1 1 1 1 1 1 1 ...\n"
     ]
    },
    {
     "data": {
      "text/plain": [
       "213766320 bytes"
      ]
     },
     "metadata": {},
     "output_type": "display_data"
    },
    {
     "data": {
      "text/html": [
       "<table>\n",
       "<thead><tr><th scope=col>RecorderID</th><th scope=col>ProfileID</th><th scope=col>Datefield</th><th scope=col>Unitsread</th><th scope=col>Valid</th></tr></thead>\n",
       "<tbody>\n",
       "\t<tr><td>GNK001             </td><td>12001461           </td><td>2010-09-01 00:00:00</td><td>0.1783333          </td><td>1                  </td></tr>\n",
       "\t<tr><td>GNK001             </td><td>12001461           </td><td>2010-09-01 00:30:00</td><td>0.1916667          </td><td>1                  </td></tr>\n",
       "\t<tr><td>GNK001             </td><td>12001461           </td><td>2010-09-01 01:00:00</td><td>0.1283333          </td><td>1                  </td></tr>\n",
       "\t<tr><td>GNK001             </td><td>12001461           </td><td>2010-09-01 01:30:00</td><td>0.1983333          </td><td>1                  </td></tr>\n",
       "\t<tr><td>GNK001             </td><td>12001461           </td><td>2010-09-01 02:00:00</td><td>0.1433333          </td><td>1                  </td></tr>\n",
       "</tbody>\n",
       "</table>\n"
      ],
      "text/latex": [
       "\\begin{tabular}{r|lllll}\n",
       " RecorderID & ProfileID & Datefield & Unitsread & Valid\\\\\n",
       "\\hline\n",
       "\t GNK001              & 12001461            & 2010-09-01 00:00:00 & 0.1783333           & 1                  \\\\\n",
       "\t GNK001              & 12001461            & 2010-09-01 00:30:00 & 0.1916667           & 1                  \\\\\n",
       "\t GNK001              & 12001461            & 2010-09-01 01:00:00 & 0.1283333           & 1                  \\\\\n",
       "\t GNK001              & 12001461            & 2010-09-01 01:30:00 & 0.1983333           & 1                  \\\\\n",
       "\t GNK001              & 12001461            & 2010-09-01 02:00:00 & 0.1433333           & 1                  \\\\\n",
       "\\end{tabular}\n"
      ],
      "text/markdown": [
       "\n",
       "RecorderID | ProfileID | Datefield | Unitsread | Valid | \n",
       "|---|---|---|---|---|\n",
       "| GNK001              | 12001461            | 2010-09-01 00:00:00 | 0.1783333           | 1                   | \n",
       "| GNK001              | 12001461            | 2010-09-01 00:30:00 | 0.1916667           | 1                   | \n",
       "| GNK001              | 12001461            | 2010-09-01 01:00:00 | 0.1283333           | 1                   | \n",
       "| GNK001              | 12001461            | 2010-09-01 01:30:00 | 0.1983333           | 1                   | \n",
       "| GNK001              | 12001461            | 2010-09-01 02:00:00 | 0.1433333           | 1                   | \n",
       "\n",
       "\n"
      ],
      "text/plain": [
       "  RecorderID ProfileID Datefield           Unitsread Valid\n",
       "1 GNK001     12001461  2010-09-01 00:00:00 0.1783333 1    \n",
       "2 GNK001     12001461  2010-09-01 00:30:00 0.1916667 1    \n",
       "3 GNK001     12001461  2010-09-01 01:00:00 0.1283333 1    \n",
       "4 GNK001     12001461  2010-09-01 01:30:00 0.1983333 1    \n",
       "5 GNK001     12001461  2010-09-01 02:00:00 0.1433333 1    "
      ]
     },
     "metadata": {},
     "output_type": "display_data"
    }
   ],
   "source": [
    "str(data)\n",
    "object.size(data)\n",
    "data[1:5,]"
   ]
  },
  {
   "cell_type": "markdown",
   "metadata": {},
   "source": [
    "#### Convert data format"
   ]
  },
  {
   "cell_type": "markdown",
   "metadata": {},
   "source": [
    "Looks like we've got some formatting issues to take care of. We'd like the following formatting:\n",
    "\n",
    "* RecorderID - factor\n",
    "* ProfileID - factor\n",
    "* Datefield - datetime\n",
    "* Unitsread - numeric (no change)\n",
    "* Valid - numeric (no change)"
   ]
  },
  {
   "cell_type": "code",
   "execution_count": 36,
   "metadata": {},
   "outputs": [
    {
     "data": {
      "text/plain": [
       "188830168 bytes"
      ]
     },
     "metadata": {},
     "output_type": "display_data"
    },
    {
     "name": "stdout",
     "output_type": "stream",
     "text": [
      "Classes ‘tbl_df’, ‘tbl’ and 'data.frame':\t5899533 obs. of  5 variables:\n",
      " $ RecorderID: Factor w/ 172 levels \"GNK001\",\"GNK002\",..: 1 1 1 1 1 1 1 1 1 1 ...\n",
      " $ ProfileID : Factor w/ 516 levels \"12000772\",\"12000776\",..: 160 160 160 160 160 160 160 160 160 160 ...\n",
      " $ Datefield : POSIXct, format: \"2010-08-31 22:00:00\" \"2010-08-31 22:30:00\" ...\n",
      " $ Unitsread : num  0.178 0.192 0.128 0.198 0.143 ...\n",
      " $ Valid     : num  1 1 1 1 1 1 1 1 1 1 ...\n"
     ]
    }
   ],
   "source": [
    "data[c('RecorderID','ProfileID')] <- lapply(data[c('RecorderID','ProfileID')], factor)\n",
    "data$Datefield <- fastPOSIXct(data$Datefield, 'GMT+2')\n",
    "\n",
    "object.size(data)\n",
    "str(data)"
   ]
  },
  {
   "cell_type": "markdown",
   "metadata": {},
   "source": [
    "### Read from CKAN data portal\n",
    "[energydata.uct.ac.za](energydata.uct.ac.za)\n",
    "\n",
    "ckanr on github: https://github.com/ropensci/ckanr \n",
    "\n",
    "ckanr documentation: https://cran.r-project.org/web/packages/ckanr/ckanr.pdf"
   ]
  },
  {
   "cell_type": "code",
   "execution_count": 28,
   "metadata": {},
   "outputs": [],
   "source": [
    "ckanr_setup(url = 'http://energydata.uct.ac.za')"
   ]
  },
  {
   "cell_type": "code",
   "execution_count": 53,
   "metadata": {},
   "outputs": [
    {
     "name": "stderr",
     "output_type": "stream",
     "text": [
      "No encoding supplied: defaulting to UTF-8.\n"
     ]
    }
   ],
   "source": [
    "fileurl <- resource_show('649cb8f9-cbef-467e-b585-710b8e20c9ac', as = 'table')$url\n",
    "data <- fetch(fileurl,store = 'session')\n",
    "data$X <- NULL"
   ]
  },
  {
   "cell_type": "code",
   "execution_count": 54,
   "metadata": {},
   "outputs": [
    {
     "data": {
      "text/html": [
       "<table>\n",
       "<thead><tr><th scope=col>RecorderID</th><th scope=col>ProfileID</th><th scope=col>Datefield</th><th scope=col>Unitsread</th><th scope=col>Valid</th></tr></thead>\n",
       "<tbody>\n",
       "\t<tr><td>GNK001             </td><td>12001461           </td><td>2010-09-01 00:00:00</td><td>0.1783333          </td><td>1                  </td></tr>\n",
       "\t<tr><td>GNK001             </td><td>12001461           </td><td>2010-09-01 00:30:00</td><td>0.1916667          </td><td>1                  </td></tr>\n",
       "\t<tr><td>GNK001             </td><td>12001461           </td><td>2010-09-01 01:00:00</td><td>0.1283333          </td><td>1                  </td></tr>\n",
       "\t<tr><td>GNK001             </td><td>12001461           </td><td>2010-09-01 01:30:00</td><td>0.1983333          </td><td>1                  </td></tr>\n",
       "\t<tr><td>GNK001             </td><td>12001461           </td><td>2010-09-01 02:00:00</td><td>0.1433333          </td><td>1                  </td></tr>\n",
       "</tbody>\n",
       "</table>\n"
      ],
      "text/latex": [
       "\\begin{tabular}{r|lllll}\n",
       " RecorderID & ProfileID & Datefield & Unitsread & Valid\\\\\n",
       "\\hline\n",
       "\t GNK001              & 12001461            & 2010-09-01 00:00:00 & 0.1783333           & 1                  \\\\\n",
       "\t GNK001              & 12001461            & 2010-09-01 00:30:00 & 0.1916667           & 1                  \\\\\n",
       "\t GNK001              & 12001461            & 2010-09-01 01:00:00 & 0.1283333           & 1                  \\\\\n",
       "\t GNK001              & 12001461            & 2010-09-01 01:30:00 & 0.1983333           & 1                  \\\\\n",
       "\t GNK001              & 12001461            & 2010-09-01 02:00:00 & 0.1433333           & 1                  \\\\\n",
       "\\end{tabular}\n"
      ],
      "text/markdown": [
       "\n",
       "RecorderID | ProfileID | Datefield | Unitsread | Valid | \n",
       "|---|---|---|---|---|\n",
       "| GNK001              | 12001461            | 2010-09-01 00:00:00 | 0.1783333           | 1                   | \n",
       "| GNK001              | 12001461            | 2010-09-01 00:30:00 | 0.1916667           | 1                   | \n",
       "| GNK001              | 12001461            | 2010-09-01 01:00:00 | 0.1283333           | 1                   | \n",
       "| GNK001              | 12001461            | 2010-09-01 01:30:00 | 0.1983333           | 1                   | \n",
       "| GNK001              | 12001461            | 2010-09-01 02:00:00 | 0.1433333           | 1                   | \n",
       "\n",
       "\n"
      ],
      "text/plain": [
       "  RecorderID ProfileID Datefield           Unitsread Valid\n",
       "1 GNK001     12001461  2010-09-01 00:00:00 0.1783333 1    \n",
       "2 GNK001     12001461  2010-09-01 00:30:00 0.1916667 1    \n",
       "3 GNK001     12001461  2010-09-01 01:00:00 0.1283333 1    \n",
       "4 GNK001     12001461  2010-09-01 01:30:00 0.1983333 1    \n",
       "5 GNK001     12001461  2010-09-01 02:00:00 0.1433333 1    "
      ]
     },
     "metadata": {},
     "output_type": "display_data"
    }
   ],
   "source": [
    "data[1:5,]"
   ]
  },
  {
   "cell_type": "code",
   "execution_count": null,
   "metadata": {},
   "outputs": [],
   "source": []
  }
 ],
 "metadata": {
  "anaconda-cloud": {},
  "kernelspec": {
   "display_name": "R [conda env:R]",
   "language": "R",
   "name": "conda-env-R-r"
  },
  "language_info": {
   "codemirror_mode": "r",
   "file_extension": ".r",
   "mimetype": "text/x-r-source",
   "name": "R",
   "pygments_lexer": "r",
   "version": "3.3.2"
  }
 },
 "nbformat": 4,
 "nbformat_minor": 2
}
