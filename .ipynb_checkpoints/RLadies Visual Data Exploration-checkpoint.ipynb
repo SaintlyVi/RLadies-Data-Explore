{
 "cells": [
  {
   "cell_type": "markdown",
   "metadata": {},
   "source": [
    "# End-to-end Data Exploration\n",
    "\n",
    "for R-Ladies Cape Town, June 2018\n",
    "\n",
    "by Wiebke Toussaint [@SaintlyVi](https://twitter.com/SaintlyVi)"
   ]
  },
  {
   "cell_type": "code",
   "execution_count": 5,
   "metadata": {},
   "outputs": [],
   "source": [
    "#Notebook dependencies (uncomment if you need to install packages)\n",
    "#install.packages('feather')\n",
    "#install.packages('ckanr')\n",
    "#install.packages('plotly')\n",
    "#install.packages('tictoc')\n",
    "#install.packages('fasttime')\n",
    "#install.packages('dtplyr')\n",
    "\n",
    "library(feather) #for fast data writes and reads\n",
    "library(ckanr) #for accessing data from ckan data portals\n",
    "library(plotly) #for beautiful visualisations\n",
    "library(tictoc) #for measuring how long your functions take to execute\n",
    "library(dtplyr) #just because it's standard\n",
    "library(fasttime) #for fast time conversions\n",
    "library(data.table) #for big data"
   ]
  },
  {
   "cell_type": "markdown",
   "metadata": {},
   "source": [
    "## Get Data"
   ]
  },
  {
   "cell_type": "markdown",
   "metadata": {},
   "source": [
    "### Read from file\n",
    "Download file from [Google Drive](https://drive.google.com/open?id=1PtHZgTHkHeADvpjCYGWiRFhz4CO6OCZ7) and save in /data."
   ]
  },
  {
   "cell_type": "code",
   "execution_count": 2,
   "metadata": {},
   "outputs": [
    {
     "name": "stdout",
     "output_type": "stream",
     "text": [
      "Reading file from csv is so sloooow....: 0.001 sec elapsed\n"
     ]
    }
   ],
   "source": [
    "wd <- getwd()\n",
    "filepath <- file.path(wd,'data','power_sample_data.csv', fsep = .Platform$file.sep)\n",
    "tic('Reading file from csv is so sloooow....')\n",
    "data <- read_csv(filepath, stringsAsFactors = FALSE )\n",
    "toc()"
   ]
  },
  {
   "cell_type": "markdown",
   "metadata": {},
   "source": [
    "Feather reads and writes much faster. Let's save the file as a feather object so that we can save some time next time we want to load it.\n",
    "\n"
   ]
  },
  {
   "cell_type": "markdown",
   "metadata": {},
   "source": [
    "#### Convert to feather format"
   ]
  },
  {
   "cell_type": "code",
   "execution_count": null,
   "metadata": {},
   "outputs": [],
   "source": [
    "featherpath <- file.path(wd,'data','power_sample_data.feather', fsep = .Platform$file.sep)\n",
    "write_feather(data, featherpath)"
   ]
  },
  {
   "cell_type": "code",
   "execution_count": 3,
   "metadata": {},
   "outputs": [
    {
     "name": "stdout",
     "output_type": "stream",
     "text": [
      "Reading file from feather is much faster!: 5.658 sec elapsed\n"
     ]
    }
   ],
   "source": [
    "tic('Reading file from feather is much faster!')\n",
    "data <- read_feather(paste(wd, 'data','power_sample_data.feather',sep='/'))\n",
    "toc()"
   ]
  },
  {
   "cell_type": "markdown",
   "metadata": {},
   "source": [
    "Now let's take a look at what we got in our dataset."
   ]
  },
  {
   "cell_type": "code",
   "execution_count": null,
   "metadata": {},
   "outputs": [],
   "source": [
    "str(data)\n",
    "object.size(data)\n",
    "data[1:5,]"
   ]
  },
  {
   "cell_type": "markdown",
   "metadata": {},
   "source": [
    "#### Ensure data object is a data.table"
   ]
  },
  {
   "cell_type": "markdown",
   "metadata": {},
   "source": [
    "That's quite a big dataset! `data.table` is much more efficient and dealing with large datasets in R than `data.frame`. We convert our dataset to a data.table object. \n",
    "\n",
    "Get the `data.table` [cheatsheet](http://datacamp-community.s3.amazonaws.com/6fdf799f-76ba-45b1-b8d8-39c4d4211c31)"
   ]
  },
  {
   "cell_type": "code",
   "execution_count": 6,
   "metadata": {},
   "outputs": [],
   "source": [
    "data <- as.data.table(data)"
   ]
  },
  {
   "cell_type": "markdown",
   "metadata": {},
   "source": [
    "A little aside - `data.table.fread()` is a very efficient way of reading in data files. Not quite as fast as feather, but almost. And it saves us from having to convert the files to feather objects. Let's see how fast an `fread()` takes."
   ]
  },
  {
   "cell_type": "code",
   "execution_count": null,
   "metadata": {},
   "outputs": [],
   "source": [
    "tic('Reading file with fread() is almost as fast as feather')\n",
    "data <- fread(file.path(wd,'data','power_sample_data.csv', fsep = .Platform$file.sep))\n",
    "toc()\n",
    "cat('\\nIs data a data.table? ')\n",
    "cat(is.data.table(data))"
   ]
  },
  {
   "cell_type": "markdown",
   "metadata": {},
   "source": [
    "### Just because we c(k)an read from a CKAN data portal\n",
    "A little bit of Open Data ... because it's nice and the world should be a little bit more open :)\n",
    "\n",
    "* [ERC Data Portal](energydata.uct.ac.za)\n",
    "* [ckanr on github](https://github.com/ropensci/ckanr)\n",
    "* [ckanr documentation](https://cran.r-project.org/web/packages/ckanr/ckanr.pdf)\n",
    "\n",
    "=> use `ckanr` package"
   ]
  },
  {
   "cell_type": "code",
   "execution_count": null,
   "metadata": {},
   "outputs": [],
   "source": [
    "ckanr_setup(url = 'http://energydata.uct.ac.za')"
   ]
  },
  {
   "cell_type": "code",
   "execution_count": null,
   "metadata": {},
   "outputs": [],
   "source": [
    "package_search(q='title:DLR')$results"
   ]
  },
  {
   "cell_type": "code",
   "execution_count": null,
   "metadata": {},
   "outputs": [],
   "source": [
    "fileurl <- package_search(q='title:DLR', as='table')$results['resources'][[1]][[1]]$url\n",
    "smalldata <- fetch(fileurl,store = 'session')\n",
    "smalldata$X <- NULL"
   ]
  },
  {
   "cell_type": "code",
   "execution_count": null,
   "metadata": {},
   "outputs": [],
   "source": [
    "smalldata[1:5,]"
   ]
  },
  {
   "cell_type": "code",
   "execution_count": null,
   "metadata": {},
   "outputs": [],
   "source": [
    "cat(is.data.table(smalldata))"
   ]
  },
  {
   "cell_type": "markdown",
   "metadata": {},
   "source": [
    "## Wrangle Data"
   ]
  },
  {
   "cell_type": "markdown",
   "metadata": {},
   "source": [
    "#### Remove invalid data"
   ]
  },
  {
   "cell_type": "code",
   "execution_count": null,
   "metadata": {},
   "outputs": [],
   "source": [
    "data <- data[Valid==1,.(ProfileID, Datefield, Unitsread)]"
   ]
  },
  {
   "cell_type": "markdown",
   "metadata": {},
   "source": [
    "#### Convert column data types"
   ]
  },
  {
   "cell_type": "markdown",
   "metadata": {},
   "source": [
    "Looks like we've got some formatting issues to take care of. We'd like the following formatting:\n",
    "\n",
    "* RecorderID - factor\n",
    "* ProfileID - factor\n",
    "* Datefield - datetime => use `fasttime` package\n",
    "* Unitsread - numeric (no change)\n",
    "* Valid - numeric (no change)"
   ]
  },
  {
   "cell_type": "code",
   "execution_count": null,
   "metadata": {},
   "outputs": [],
   "source": [
    "data <- data[, ProfileID := as.factor(ProfileID)]\n",
    "data <- data[, Datefield := fastPOSIXct(Datefield, 'GMT+2')]\n",
    "object.size(data)\n",
    "str(data)"
   ]
  },
  {
   "cell_type": "code",
   "execution_count": null,
   "metadata": {},
   "outputs": [],
   "source": [
    "data[1:5]"
   ]
  },
  {
   "cell_type": "code",
   "execution_count": null,
   "metadata": {},
   "outputs": [],
   "source": [
    "meanhourly = data[,.(Mean=mean(Unitsread)),.(ProfileID, Datefield)]"
   ]
  },
  {
   "cell_type": "code",
   "execution_count": null,
   "metadata": {},
   "outputs": [],
   "source": [
    "meanhourly[1:5]"
   ]
  },
  {
   "cell_type": "code",
   "execution_count": null,
   "metadata": {},
   "outputs": [],
   "source": []
  }
 ],
 "metadata": {
  "anaconda-cloud": {},
  "kernelspec": {
   "display_name": "R [conda env:R]",
   "language": "R",
   "name": "conda-env-R-r"
  },
  "language_info": {
   "codemirror_mode": "r",
   "file_extension": ".r",
   "mimetype": "text/x-r-source",
   "name": "R",
   "pygments_lexer": "r",
   "version": "3.4.3"
  }
 },
 "nbformat": 4,
 "nbformat_minor": 2
}
